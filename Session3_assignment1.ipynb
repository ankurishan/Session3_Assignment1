{
  "nbformat": 4,
  "nbformat_minor": 0,
  "metadata": {
    "colab": {
      "name": "Session3_assignment1.ipynb",
      "provenance": [],
      "collapsed_sections": []
    },
    "kernelspec": {
      "name": "python3",
      "display_name": "Python 3"
    }
  },
  "cells": [
    {
      "cell_type": "code",
      "metadata": {
        "id": "mIXcVZ-Itsd0",
        "colab_type": "code",
        "outputId": "b859eb9c-37f2-43b4-f5d0-6af729acd4c5",
        "colab": {
          "base_uri": "https://localhost:8080/",
          "height": 51
        }
      },
      "source": [
        "try:\n",
        "  answer=5/0\n",
        "  print(int(answer))\n",
        "except:\n",
        "  print(\"An execption occured, check the denominotor\")\n",
        "else:\n",
        "  print(\"It will never execute\")\n",
        "finally:\n",
        "  print(\"This is an example of try except concept.\")\n"
      ],
      "execution_count": 0,
      "outputs": [
        {
          "output_type": "stream",
          "text": [
            "An execption occured, check the denominotor\n",
            "This is an example of try except concept.\n"
          ],
          "name": "stdout"
        }
      ]
    },
    {
      "cell_type": "code",
      "metadata": {
        "id": "tTiih0dpCGZS",
        "colab_type": "code",
        "outputId": "184bfc44-0b85-4472-d1e3-b05e2d9d70a6",
        "colab": {
          "base_uri": "https://localhost:8080/",
          "height": 153
        }
      },
      "source": [
        "subjects=[\"Americans \",\"Indians\"]\n",
        "verbs=[\"play\",\"watch\"]\n",
        "objects=[\"Baseball\",\"Cricket\"]\n",
        "\"\"\"words=[]\n",
        "try:\n",
        "  for i in range(0,2):\n",
        "    for j in range(0,2):\n",
        "      for k in range(0,2):\n",
        "        words=subjects[i]+\" \"+verbs[j]+\" \"+objects[k]+\".\"\n",
        "        print(words)\n",
        "except Exception as e:\n",
        "  print(e)\"\"\"\n",
        "\n",
        "words1=[words for i in range(0,2) for j in range(0,2) for k in range(0,2) subjects[i]+\" \"+verbs[j]+\" \"+objects[k]+\".\" ]\n",
        "print(words1)"
      ],
      "execution_count": 0,
      "outputs": [
        {
          "output_type": "stream",
          "text": [
            "Americans  play Baseball.\n",
            "Americans  play Cricket.\n",
            "Americans  watch Baseball.\n",
            "Americans  watch Cricket.\n",
            "Indians play Baseball.\n",
            "Indians play Cricket.\n",
            "Indians watch Baseball.\n",
            "Indians watch Cricket.\n"
          ],
          "name": "stdout"
        }
      ]
    },
    {
      "cell_type": "markdown",
      "metadata": {
        "id": "FO876p-NAjS3",
        "colab_type": "text"
      },
      "source": [
        "**Task 2:**\n",
        "\n",
        "**1.**\n",
        "\n",
        "Write a function so that the columns of the output matrix are powers of the input vector.\n",
        "The order of the powers is determined by the increasing boolean argument. Specifically, when\n",
        "increasing is False, the i-th output column is the input vector raised element-wise to the power\n",
        "of N - i - 1.\n",
        "HINT: Such a matrix with a geometric progression in each row is named for AlexandreTheophile Vandermonde."
      ]
    },
    {
      "cell_type": "code",
      "metadata": {
        "id": "VNwhQWUyC7sT",
        "colab_type": "code",
        "colab": {
          "base_uri": "https://localhost:8080/",
          "height": 102
        },
        "outputId": "229ab504-dac8-430d-fdd2-c68fb099f01c"
      },
      "source": [
        "import numpy as np\n",
        "x = np.array([1, 2, 3, 5])\n",
        "N = int(input(\"Enter the dimension of the matrix\"))\n",
        "def checkIncreasingFlag(flag):\n",
        "  if flag==\"false\":\n",
        "    print(np.vander(x, N))\n",
        "  else:\n",
        "    print(np.vander(x, N,increasing=True))\n",
        "checkIncreasingFlag(\"false\")"
      ],
      "execution_count": 21,
      "outputs": [
        {
          "output_type": "stream",
          "text": [
            "Enter the dimension of the matrix3\n",
            "[[ 1  1  1]\n",
            " [ 4  2  1]\n",
            " [ 9  3  1]\n",
            " [25  5  1]]\n"
          ],
          "name": "stdout"
        }
      ]
    },
    {
      "cell_type": "code",
      "metadata": {
        "id": "2vmN-PqZBPid",
        "colab_type": "code",
        "colab": {}
      },
      "source": [
        ""
      ],
      "execution_count": 0,
      "outputs": []
    }
  ]
}